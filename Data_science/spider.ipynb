{
 "cells": [
  {
   "cell_type": "code",
   "execution_count": 1,
   "metadata": {},
   "outputs": [],
   "source": [
    "import requests\n",
    "from bs4 import BeautifulSoup\n",
    "\n"
   ]
  },
  {
   "cell_type": "code",
   "execution_count": 2,
   "metadata": {},
   "outputs": [
    {
     "name": "stdout",
     "output_type": "stream",
     "text": [
      "200\n"
     ]
    }
   ],
   "source": [
    "addr='https://www.ndtv.com/latest'\n",
    "page=requests.get(addr)\n",
    "print(page.status_code)"
   ]
  },
  {
   "cell_type": "code",
   "execution_count": 3,
   "metadata": {},
   "outputs": [],
   "source": [
    "soup=BeautifulSoup(page.text)"
   ]
  },
  {
   "cell_type": "code",
   "execution_count": 4,
   "metadata": {},
   "outputs": [
    {
     "name": "stdout",
     "output_type": "stream",
     "text": [
      "target found\n"
     ]
    }
   ],
   "source": [
    "target=soup.find('div',attrs={'class':'lisingNews'})\n",
    "if target is not None:\n",
    "    print('target found')\n",
    "else:\n",
    "    print('could not find targetted area')\n"
   ]
  },
  {
   "cell_type": "code",
   "execution_count": 5,
   "metadata": {},
   "outputs": [
    {
     "name": "stdout",
     "output_type": "stream",
     "text": [
      "17 news headlines found.\n"
     ]
    }
   ],
   "source": [
    "news=target.find_all('div',attrs={'class':'news_Itm'})\n",
    "if news is not None:\n",
    "    print(len(news),'news headlines found.')\n",
    "else:\n",
    "    print('could not find the tags you are looking for')"
   ]
  },
  {
   "cell_type": "code",
   "execution_count": 6,
   "metadata": {},
   "outputs": [
    {
     "name": "stdout",
     "output_type": "stream",
     "text": [
      "News entry:1\n",
      "Watch: Pakistani Reporter Slammed Online For Asking \"Why Are Female Footballers Wearing Shorts?\"\n",
      "After objecting to the national women's football team's players wearing shorts during a tournament, a Pakistani journalist came under fire.\n",
      "Edited by Nikhil Pandey  | Sunday September 18, 2022\n",
      "------------------------------------------------------------------------------------------------------------------------\n",
      "News entry:2\n",
      "Brahmastra: Shah Rukh Khan Happily Poses With His Stunt Double Hasit Savani In This Pic\n",
      "\"A real pleasure to be the stunt double for the legend, Shah Rukh Khan, wrote Hasit Savani\n",
      "Written by Niharika Sanjeeiv  | Sunday September 18, 2022, New Delhi\n",
      "------------------------------------------------------------------------------------------------------------------------\n",
      "News entry:3\n",
      "IIM CAT 2022 Registration Ends On September 21; Details Here\n",
      "IIM CAT 2022 Registration: The IIM Bangalore has recently announced Imphal as the new exam centre. Apply for CAT 2022 at imcat.ac.in till September 21, 5 PM\n",
      "Edited by Arnab Mitra  | Sunday September 18, 2022\n",
      "------------------------------------------------------------------------------------------------------------------------\n",
      "no title found\n",
      "News entry:5\n",
      "\"Pathological Liar\": Congress Slams PM In Credit War Over Cheetahs' Return\n",
      "The Congress today hit out at Prime Minister Narendra Modi over his remark that \"no constructive efforts\" were made for decades to reintroduce cheetahs to India after the big cats were declared extinct in the country.\n",
      "Reported by Sunil Prabhu, Edited by Saikat Kumar Bose  | Sunday September 18, 2022\n",
      "------------------------------------------------------------------------------------------------------------------------\n",
      "News entry:6\n",
      "\"XYZ Can Say Whatever They Want...\": Ravi Shastri on \"No. 1 Allrounder\" Hardik Pandya\n",
      "Hardik Pandya holds a special place in the 15-member squad as he is the top all-rounder in the side. He has shown maturity with the bat and has been bowling fast too\n",
      "NDTV Sports Desk   | Sunday September 18, 2022\n",
      "------------------------------------------------------------------------------------------------------------------------\n",
      "News entry:7\n",
      "Mohammed Shami Ruled Out Of T20I Series vs Australia After Testing COVID-19 Positive, Umesh Yadav Named Replacement\n",
      "India pacer Mohammed Shami has been ruled out of the upcoming three-match T20I series against Australia after testing positive for COVID-19, the BCCI confirmed in an official media release on Sunday.\n",
      "NDTV Sports Desk   | Sunday September 18, 2022\n",
      "------------------------------------------------------------------------------------------------------------------------\n",
      "no title found\n",
      "News entry:9\n",
      "PM Modi's NCC Alumni Card, Ram Temple Models Most Sought After Items At Auction\n",
      "Prime Minister Narendra Modi's NCC alumni card, multiple models of the upcoming Ram temple in Ayodhya and a statue of the mascot of the recently-held Chess Olympiad in Chennai are among the items which are highly sought after at an online auction of\n",
      "Press Trust of India   | Sunday September 18, 2022, New Delhi\n",
      "------------------------------------------------------------------------------------------------------------------------\n",
      "News entry:10\n",
      "Kerala Chief Minister Meets Karnataka Counterpart In Bengaluru\n",
      "Kerala Chief Minister Pinarayi Vijayan on Sunday called on his Karnataka counterpart Basavaraj Bommai in Bengaluruand discussed many issues including development of border region.\n",
      "Press Trust of India   | Sunday September 18, 2022, Bengaluru\n",
      "------------------------------------------------------------------------------------------------------------------------\n",
      "News entry:11\n",
      "JoSAA Counselling 2022: Round One Mock Seat Allotment List Released, Check At Josaa.nic.in\n",
      "JoSAA Counselling 2022:  The round one seat allocation result will be released on September 23\n",
      "Edited by Arnab Mitra  | Sunday September 18, 2022\n",
      "------------------------------------------------------------------------------------------------------------------------\n",
      "News entry:12\n",
      "Palestinian Farmer Unearths Rare Byzantine-Era Mosaic In Gaza. See Pics\n",
      "Ancient mosaic floors were recently discovered in the central Gaza strip, the Tourism and Antiquities Ministry announced on Saturday on Facebook while revealing photos of the site.\n",
      "Edited by Bhavya Sukheja  | Sunday September 18, 2022\n",
      "------------------------------------------------------------------------------------------------------------------------\n",
      "News entry:13\n",
      "27 Killed In China Bus Crash, Country's Deadliest Road Accident This Year\n",
      "Twenty-seven people were killed in a bus crash in southwest China on Sunday, police said, in the country's deadliest road accident so far this year.\n",
      "Agence France-Presse   | Sunday September 18, 2022, Beijing\n",
      "------------------------------------------------------------------------------------------------------------------------\n",
      "News entry:14\n",
      "Ranbir Kapoor To NDTV On Alia Bhatt's Pregnancy: \"Any Criticism Is Just Jealousy\"\n",
      "\"I think you should only be inspired by that,\" said Ranbir Kapoor\n",
      "Arun Singh   | Sunday September 18, 2022, Mumbai (Maharashtra)\n",
      "------------------------------------------------------------------------------------------------------------------------\n",
      "News entry:15\n",
      "Ex-Pakistan Captain Salman Butt's Stern Take On Shahid Afridi's \"PCB Hasn't Done Anything\" For Shaheen Comment\n",
      "Notably, Shaheen toured with the team for the ODI series against Netherlands. He was then ruled out of the Asia Cup, but accompanied the team, as a part of his rehab, for the tournament.\n",
      "NDTV Sports Desk   | Sunday September 18, 2022\n",
      "------------------------------------------------------------------------------------------------------------------------\n",
      "News entry:16\n",
      "Harsha Engineers Public Offer Received Large Participation From Investors\n",
      "The initial public offering of Harsha Engineers International saw large participation from investors as its issue was subscribed 74.70 times at the end of the three-day window that ended on Friday.\n",
      "Asian News International   | Sunday September 18, 2022, New Delhi\n",
      "------------------------------------------------------------------------------------------------------------------------\n",
      "News entry:17\n",
      "Poshan Maah 2022: All About Women's Nutrition Needs At Different Life Stages\n",
      "This Poshan Maah 2022 is dedicated to the health of women and children, both are interlinked.\n",
      "Dr. Rupali Datta, Consultant Nutritionist   | Sunday September 18, 2022\n",
      "------------------------------------------------------------------------------------------------------------------------\n"
     ]
    }
   ],
   "source": [
    "for idx, entry in enumerate(news):\n",
    "    title=entry.find('h2',attrs={'class':'newsHdng'})\n",
    "    summary=entry.find('p',attrs={'class':'newsCont'})\n",
    "    info=entry.find('span',attrs={'class':'posted-by'})\n",
    "    if title is not None:\n",
    "        print(f'News entry:{idx+1}')\n",
    "        print(title.text.strip())\n",
    "        print(summary.text.strip())\n",
    "        print(info.text.strip())\n",
    "        print('------------'*10)\n",
    "    else:\n",
    "        print('no title found')\n"
   ]
  },
  {
   "cell_type": "code",
   "execution_count": 7,
   "metadata": {},
   "outputs": [
    {
     "name": "stdout",
     "output_type": "stream",
     "text": [
      "no titles was found\n",
      "no titles was found\n",
      "[{'#': 1, 'title': 'Watch: Pakistani Reporter Slammed Online For Asking \"Why Are Female Footballers Wearing Shorts?\"', 'summary': \"After objecting to the national women's football team's players wearing shorts during a tournament, a Pakistani journalist came under fire.\", 'source': 'Edited by Nikhil Pandey', 'location': 'Sunday September 18, 2022'}, {'#': 2, 'title': 'Brahmastra: Shah Rukh Khan Happily Poses With His Stunt Double Hasit Savani In This Pic', 'summary': '\"A real pleasure to be the stunt double for the legend, Shah Rukh Khan, wrote Hasit Savani', 'source': 'Written by Niharika Sanjeeiv', 'location': 'Sunday September 18, 2022, New Delhi'}, {'#': 3, 'title': 'IIM CAT 2022 Registration Ends On September 21; Details Here', 'summary': 'IIM CAT 2022 Registration: The IIM Bangalore has recently announced Imphal as the new exam centre. Apply for CAT 2022 at imcat.ac.in till September 21, 5 PM', 'source': 'Edited by Arnab Mitra', 'location': 'Sunday September 18, 2022'}, {'#': 5, 'title': '\"Pathological Liar\": Congress Slams PM In Credit War Over Cheetahs\\' Return', 'summary': 'The Congress today hit out at Prime Minister Narendra Modi over his remark that \"no constructive efforts\" were made for decades to reintroduce cheetahs to India after the big cats were declared extinct in the country.', 'source': 'Reported by Sunil Prabhu, Edited by Saikat Kumar Bose', 'location': 'Sunday September 18, 2022'}, {'#': 6, 'title': '\"XYZ Can Say Whatever They Want...\": Ravi Shastri on \"No. 1 Allrounder\" Hardik Pandya', 'summary': 'Hardik Pandya holds a special place in the 15-member squad as he is the top all-rounder in the side. He has shown maturity with the bat and has been bowling fast too', 'source': 'NDTV Sports Desk', 'location': 'Sunday September 18, 2022'}, {'#': 7, 'title': 'Mohammed Shami Ruled Out Of T20I Series vs Australia After Testing COVID-19 Positive, Umesh Yadav Named Replacement', 'summary': 'India pacer Mohammed Shami has been ruled out of the upcoming three-match T20I series against Australia after testing positive for COVID-19, the BCCI confirmed in an official media release on Sunday.', 'source': 'NDTV Sports Desk', 'location': 'Sunday September 18, 2022'}, {'#': 9, 'title': \"PM Modi's NCC Alumni Card, Ram Temple Models Most Sought After Items At Auction\", 'summary': \"Prime Minister Narendra Modi's NCC alumni card, multiple models of the upcoming Ram temple in Ayodhya and a statue of the mascot of the recently-held Chess Olympiad in Chennai are among the items which are highly sought after at an online auction of\", 'source': 'Press Trust of India', 'location': 'Sunday September 18, 2022, New Delhi'}, {'#': 10, 'title': 'Kerala Chief Minister Meets Karnataka Counterpart In Bengaluru', 'summary': 'Kerala Chief Minister Pinarayi Vijayan on Sunday called on his Karnataka counterpart Basavaraj Bommai in Bengaluruand discussed many issues including development of border region.', 'source': 'Press Trust of India', 'location': 'Sunday September 18, 2022, Bengaluru'}, {'#': 11, 'title': 'JoSAA Counselling 2022: Round One Mock Seat Allotment List Released, Check At Josaa.nic.in', 'summary': 'JoSAA Counselling 2022:  The round one seat allocation result will be released on September 23', 'source': 'Edited by Arnab Mitra', 'location': 'Sunday September 18, 2022'}, {'#': 12, 'title': 'Palestinian Farmer Unearths Rare Byzantine-Era Mosaic In Gaza. See Pics', 'summary': 'Ancient mosaic floors were recently discovered in the central Gaza strip, the Tourism and Antiquities Ministry announced on Saturday on Facebook while revealing photos of the site.', 'source': 'Edited by Bhavya Sukheja', 'location': 'Sunday September 18, 2022'}, {'#': 13, 'title': \"27 Killed In China Bus Crash, Country's Deadliest Road Accident This Year\", 'summary': \"Twenty-seven people were killed in a bus crash in southwest China on Sunday, police said, in the country's deadliest road accident so far this year.\", 'source': 'Agence France-Presse', 'location': 'Sunday September 18, 2022, Beijing'}, {'#': 14, 'title': 'Ranbir Kapoor To NDTV On Alia Bhatt\\'s Pregnancy: \"Any Criticism Is Just Jealousy\"', 'summary': '\"I think you should only be inspired by that,\" said Ranbir Kapoor', 'source': 'Arun Singh', 'location': 'Sunday September 18, 2022, Mumbai (Maharashtra)'}, {'#': 15, 'title': 'Ex-Pakistan Captain Salman Butt\\'s Stern Take On Shahid Afridi\\'s \"PCB Hasn\\'t Done Anything\" For Shaheen Comment', 'summary': 'Notably, Shaheen toured with the team for the ODI series against Netherlands. He was then ruled out of the Asia Cup, but accompanied the team, as a part of his rehab, for the tournament.', 'source': 'NDTV Sports Desk', 'location': 'Sunday September 18, 2022'}, {'#': 16, 'title': 'Harsha Engineers Public Offer Received Large Participation From Investors', 'summary': 'The initial public offering of Harsha Engineers International saw large participation from investors as its issue was subscribed 74.70 times at the end of the three-day window that ended on Friday.', 'source': 'Asian News International', 'location': 'Sunday September 18, 2022, New Delhi'}, {'#': 17, 'title': \"Poshan Maah 2022: All About Women's Nutrition Needs At Different Life Stages\", 'summary': 'This Poshan Maah 2022 is dedicated to the health of women and children, both are interlinked.', 'source': 'Dr. Rupali Datta, Consultant Nutritionist', 'location': 'Sunday September 18, 2022'}]\n"
     ]
    }
   ],
   "source": [
    "#final extraction code\n",
    "news_data=[] #empty list\n",
    "for idx,entry in enumerate(news):\n",
    "    title=entry.find('h2',attrs={'class':'newsHdng'})\n",
    "    summary=entry.find('p',attrs={'class':'newsCont'})\n",
    "    info=entry.find('span',attrs={'class':'posted-by'})\n",
    "    if title is not None:\n",
    "        try:\n",
    "            source,location=info.text.split('|')\n",
    "        except:\n",
    "            source,location=\"N/A\",\"N/A\"\n",
    "        news_data.append({\n",
    "            '#':idx+1,\n",
    "            'title':title.text.strip(),\n",
    "            'summary':summary.text.strip(),\n",
    "            'source':source.strip(),\n",
    "            'location':location.strip(),\n",
    "        })\n",
    "    else:\n",
    "        print('no titles was found')\n",
    "print(news_data)\n",
    "    "
   ]
  }
 ],
 "metadata": {
  "kernelspec": {
   "display_name": "Python 3.9.12 ('base')",
   "language": "python",
   "name": "python3"
  },
  "language_info": {
   "codemirror_mode": {
    "name": "ipython",
    "version": 3
   },
   "file_extension": ".py",
   "mimetype": "text/x-python",
   "name": "python",
   "nbconvert_exporter": "python",
   "pygments_lexer": "ipython3",
   "version": "3.9.12"
  },
  "orig_nbformat": 4,
  "vscode": {
   "interpreter": {
    "hash": "a71a9e4fb054fff428071484f7faa898cb9ecb31a518fe88e3463da9af879578"
   }
  }
 },
 "nbformat": 4,
 "nbformat_minor": 2
}
